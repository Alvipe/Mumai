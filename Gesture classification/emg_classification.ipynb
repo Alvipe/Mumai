{
 "cells": [
  {
   "cell_type": "markdown",
   "metadata": {},
   "source": [
    "For this experiment, "
   ]
  },
  {
   "cell_type": "markdown",
   "metadata": {},
   "source": [
    "First, we import the required modules."
   ]
  },
  {
   "cell_type": "code",
   "execution_count": 1,
   "metadata": {
    "collapsed": true
   },
   "outputs": [],
   "source": [
    "import scipy.io as sio\n",
    "import numpy as np\n",
    "from sklearn.discriminant_analysis import LinearDiscriminantAnalysis as LDA\n",
    "from sklearn.preprocessing import MinMaxScaler\n",
    "from sklearn.svm import SVC"
   ]
  },
  {
   "cell_type": "markdown",
   "metadata": {},
   "source": [
    "We load the previously saved EMG data (in this case, data was recorded with Matlab/Simulink and stored in a .mat file. This is the reason why we use the scipy.io.loadmat method to load the data). We also set the number of recorded gestures (nGestures), the number of EMG channels (nChannels) and the number of times each gesture was repeated (nIterations). We initialize two empty lists that are going to be filled with data later."
   ]
  },
  {
   "cell_type": "code",
   "execution_count": 2,
   "metadata": {
    "collapsed": false
   },
   "outputs": [],
   "source": [
    "emg_data = sio.loadmat('emg_data_5_class_2ch')\n",
    "nGestures = 5\n",
    "nChannels = 2\n",
    "nIterations = 4\n",
    "emg = []\n",
    "emg_seg = []"
   ]
  },
  {
   "cell_type": "markdown",
   "metadata": {},
   "source": [
    "Ojete calor"
   ]
  },
  {
   "cell_type": "code",
   "execution_count": 3,
   "metadata": {
    "collapsed": false
   },
   "outputs": [],
   "source": [
    "for m in range(1,nGestures+1):\n",
    "    for i in range(nIterations):\n",
    "        for c in range(1,nChannels+1):\n",
    "            emg.append(emg_data['motion'+str(m)+'_ch'+str(c)][:,i])"
   ]
  },
  {
   "cell_type": "markdown",
   "metadata": {},
   "source": [
    "Before computing the features of the EMG data that we are going to use to train the classifier, the signals have to be segmented, that is, they have to be divided into chunks with a predefined length. In this case, we have implemented a function that performs a disjoint segmentation."
   ]
  },
  {
   "cell_type": "code",
   "execution_count": 4,
   "metadata": {
    "collapsed": false
   },
   "outputs": [],
   "source": [
    "def segmentation(emg, samples = 150):\n",
    "    N = samples # number of samples per segment\n",
    "    S = int(np.floor(emg.shape[0]/N)) # number of segments\n",
    "    length = 0\n",
    "    emg_seg = np.zeros((N,S))\n",
    "    for s in range(S):\n",
    "        for n in range(length,N+length):\n",
    "            emg_seg[n-length,s] = emg[n] # 2D matrix with a EMG signal divided in s segments, each one with n samples\n",
    "        length = length + N\n",
    "    length = 0\n",
    "    return emg_seg"
   ]
  },
  {
   "cell_type": "code",
   "execution_count": 5,
   "metadata": {
    "collapsed": false
   },
   "outputs": [],
   "source": [
    "for n in range(len(emg)):\n",
    "    emg_seg.append(segmentation(emg[n]))"
   ]
  },
  {
   "cell_type": "code",
   "execution_count": 6,
   "metadata": {
    "collapsed": true
   },
   "outputs": [],
   "source": [
    "def mav(emg_seg):\n",
    "    mav = np.mean(np.abs(emg_seg))\n",
    "    return mav\n",
    "    \n",
    "def rms(emg_seg):\n",
    "    rms = np.sqrt(np.mean(np.power(emg_seg,2)))\n",
    "    return rms\n",
    "    \n",
    "def var(emg_seg):\n",
    "    N = len(emg_seg)\n",
    "    var = 1.0/(N-1)*np.sum(np.power(emg_seg,2))\n",
    "#   var[s] = np.var(emg_seg[:,s])\n",
    "    return var\n",
    "    \n",
    "def ssi(emg_seg):\n",
    "    ssi = np.sum(np.abs(np.power(emg_seg,2)))\n",
    "    return ssi\n",
    "    \n",
    "def zc(emg_seg):\n",
    "    zc = np.sum(np.diff(np.sign(emg_seg))!=0)\n",
    "    return zc\n",
    "    \n",
    "def wl(emg_seg):\n",
    "    wl = np.sum(np.abs(np.diff(emg_seg)))\n",
    "    return wl\n",
    "    \n",
    "def ssc(emg_seg):\n",
    "    N = len(emg_seg)\n",
    "    ssc = 0\n",
    "    for n in range(N-1):\n",
    "        if n>0 and (emg_seg[n]-emg_seg[n-1])*(emg_seg[n]-emg_seg[n+1])>=0.001:\n",
    "            ssc += 1\n",
    "    return ssc\n",
    "    \n",
    "def wamp(emg_seg):\n",
    "    N = len(emg_seg)\n",
    "    wamp = 0\n",
    "    for n in range(N-1):\n",
    "        if np.abs(emg_seg[n]-emg_seg[n+1])>50:\n",
    "            wamp += 1\n",
    "    return wamp"
   ]
  },
  {
   "cell_type": "code",
   "execution_count": 7,
   "metadata": {
    "collapsed": true
   },
   "outputs": [],
   "source": [
    "feature_list = [mav, rms, var, ssi, zc, wl, ssc, wamp]"
   ]
  },
  {
   "cell_type": "code",
   "execution_count": 8,
   "metadata": {
    "collapsed": true
   },
   "outputs": [],
   "source": [
    "def features(segment,feature_list):\n",
    "    features = np.zeros((1,len(segment)*len(feature_list)))\n",
    "    i = 0\n",
    "    for feature in feature_list:\n",
    "        features[0,i] = feature(segment[0])\n",
    "        features[0,i+1] = feature(segment[1])\n",
    "        i +=  len(segment)\n",
    "    return features"
   ]
  },
  {
   "cell_type": "code",
   "execution_count": 9,
   "metadata": {
    "collapsed": false
   },
   "outputs": [],
   "source": [
    "nSegments = len(emg_seg[0][0])\n",
    "nFeatures = len(feature_list)\n",
    "\n",
    "feature_matrix = np.zeros((nSegments*nIterations*nGestures,nFeatures*nChannels))\n",
    "n = 0\n",
    "\n",
    "for i in range(0,len(emg_seg),nChannels):\n",
    "    for j in range(nSegments):\n",
    "        feature_matrix[n] = features((emg_seg[i][:,j],emg_seg[i+1][:,j]),feature_list)\n",
    "        n += 1"
   ]
  },
  {
   "cell_type": "code",
   "execution_count": 10,
   "metadata": {
    "collapsed": true
   },
   "outputs": [],
   "source": [
    "def feature_scaling(feature_matrix,target,reductor=None,scaler=None):\n",
    "    lda = LDA(n_components=2)    \n",
    "    minmax = MinMaxScaler(feature_range=(-1,1))\n",
    "    if not reductor:\n",
    "        reductor = lda.fit(feature_matrix,target)\n",
    "    feat_lda = reductor.transform(feature_matrix)\n",
    "    if not scaler:\n",
    "        scaler = minmax.fit(feat_lda)\n",
    "    feat_lda_scaled = scaler.transform(feat_lda)\n",
    "    \n",
    "    return feat_lda_scaled,reductor,scaler"
   ]
  },
  {
   "cell_type": "code",
   "execution_count": 11,
   "metadata": {
    "collapsed": true
   },
   "outputs": [],
   "source": [
    "def gestures(nSamples,nGestures):\n",
    "    gestures = []\n",
    "    for m in range(nGestures):\n",
    "        gestures.append((m*np.ones((nSamples))))\n",
    "    gestures = np.array(gestures).ravel()\n",
    "    return gestures"
   ]
  },
  {
   "cell_type": "code",
   "execution_count": 12,
   "metadata": {
    "collapsed": false
   },
   "outputs": [
    {
     "name": "stderr",
     "output_type": "stream",
     "text": [
      "c:\\python27\\lib\\site-packages\\sklearn\\discriminant_analysis.py:387: UserWarning: Variables are collinear.\n",
      "  warnings.warn(\"Variables are collinear.\")\n"
     ]
    }
   ],
   "source": [
    "y = gestures(nIterations*nSegments,nGestures)\n",
    "[X,reductor,scaler] = feature_scaling(feature_matrix, y)"
   ]
  },
  {
   "cell_type": "code",
   "execution_count": 13,
   "metadata": {
    "collapsed": false
   },
   "outputs": [
    {
     "data": {
      "text/plain": [
       "SVC(C=100, cache_size=200, class_weight=None, coef0=0.0,\n",
       "  decision_function_shape=None, degree=3, gamma=1, kernel='rbf',\n",
       "  max_iter=-1, probability=False, random_state=None, shrinking=True,\n",
       "  tol=0.001, verbose=False)"
      ]
     },
     "execution_count": 13,
     "metadata": {},
     "output_type": "execute_result"
    }
   ],
   "source": [
    "classifier = SVC(kernel='rbf',C=100,gamma=1)\n",
    "classifier.fit(X, y)"
   ]
  },
  {
   "cell_type": "markdown",
   "metadata": {},
   "source": [
    "Test the classifier. We take the last iteration of each recorded gesture. We execute the same steps to have the scaled feature matrix (segmentation -> feature calculation -> target matrix generation -> feature scaling)"
   ]
  },
  {
   "cell_type": "code",
   "execution_count": 14,
   "metadata": {
    "collapsed": false
   },
   "outputs": [],
   "source": [
    "emg_test = []\n",
    "emg_seg_test = []\n",
    "\n",
    "for m in range(1,nGestures+1):\n",
    "    for c in range(1,nChannels+1):\n",
    "        emg_test.append(emg_data['motion'+str(m)+'_ch'+str(c)][:,4]) #motion1_ch1_i1, motion1_ch2_i1, motion1_ch1_i2, motion1_ch2_i2\n",
    "\n",
    "for n in range(len(emg_test)):\n",
    "    emg_seg_test.append(segmentation(emg_test[n]))\n",
    "\n",
    "feature_matrix_test = np.zeros((nGestures*1*len(emg_seg_test[0][0]),len(feature_list)*nChannels))\n",
    "n = 0\n",
    "\n",
    "for i in range(0,len(emg_seg_test),nChannels):\n",
    "    for j in range(len(emg_seg_test[0][0])):\n",
    "        feature_matrix_test[n] = features((emg_seg_test[i][:,j],emg_seg_test[i+1][:,j]),feature_list)\n",
    "        n = n + 1\n",
    "\n",
    "nSegments = len(emg_seg_test[0][0])\n",
    "\n",
    "y_test = gestures(nSegments,nGestures)\n",
    "\n",
    "[X_test,reductor,scaler] = feature_scaling(feature_matrix_test,y_test,reductor,scaler)"
   ]
  },
  {
   "cell_type": "code",
   "execution_count": 15,
   "metadata": {
    "collapsed": false
   },
   "outputs": [
    {
     "name": "stdout",
     "output_type": "stream",
     "text": [
      "Classification accuracy = 98.75 percent.\n"
     ]
    }
   ],
   "source": [
    "predict = classifier.predict(X)\n",
    "print(\"Classification accuracy = %0.2f percent.\" %(100*classifier.score(X_test,y_test)))"
   ]
  }
 ],
 "metadata": {
  "kernelspec": {
   "display_name": "Python 2",
   "language": "python",
   "name": "python2"
  },
  "language_info": {
   "codemirror_mode": {
    "name": "ipython",
    "version": 2
   },
   "file_extension": ".py",
   "mimetype": "text/x-python",
   "name": "python",
   "nbconvert_exporter": "python",
   "pygments_lexer": "ipython2",
   "version": "2.7.9"
  }
 },
 "nbformat": 4,
 "nbformat_minor": 0
}
