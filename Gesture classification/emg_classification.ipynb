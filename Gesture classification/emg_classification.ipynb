{
 "cells": [
  {
   "cell_type": "markdown",
   "metadata": {},
   "source": [
    "To view the LaTeX equations correctly rendered, it is better to [open this notebook in nbviewer](http://nbviewer.jupyter.org/github/alvipe/Mumai/blob/master/Gesture%20classification/emg_classification.ipynb)."
   ]
  },
  {
   "cell_type": "markdown",
   "metadata": {},
   "source": [
    "First, we have to import the required modules:\n",
    "* **NumPy** is used to work with arrays and matrices and to use some mathematical functions, as well as to load the EMG dataset.\n",
    "* **scikit-learn** to perform the dimensionality reduction and scaling of the feature matrix (with the linear discriminant analysis and the min-max scaling methods, respectively) and to implement the classifier (a multiclass support vector machine), as well as to randomly split data into train and test data.\n",
    "* **matplotlib** is used to plot data."
   ]
  },
  {
   "cell_type": "code",
   "execution_count": 1,
   "metadata": {
    "collapsed": true
   },
   "outputs": [],
   "source": [
    "import numpy as np\n",
    "from sklearn.cross_validation import train_test_split\n",
    "from sklearn.discriminant_analysis import LinearDiscriminantAnalysis as LDA\n",
    "from sklearn.preprocessing import MinMaxScaler\n",
    "from sklearn.svm import SVC\n",
    "import matplotlib.pyplot as plt\n",
    "%matplotlib inline"
   ]
  },
  {
   "cell_type": "markdown",
   "metadata": {},
   "source": [
    "The EMG dataset is stored in a .npy file, so the numpy.load function is used to load the data. We set the number of recorded gestures (nGestures), the number of EMG channels (nChannels), the number of times each gesture was repeated during the recording session (nIterations) and the total number of signals (nSignals)."
   ]
  },
  {
   "cell_type": "code",
   "execution_count": 2,
   "metadata": {
    "collapsed": false
   },
   "outputs": [],
   "source": [
    "emg_data = np.load('emg_data_5class_2channel.npy').item()\n",
    "nGestures = 5\n",
    "nIterations = 5\n",
    "nChannels = 2\n",
    "nSignals = nGestures*nIterations*nChannels\n",
    "emg = []\n",
    "segmented_emg = []"
   ]
  },
  {
   "cell_type": "markdown",
   "metadata": {},
   "source": [
    "The EMG signals are stored as a list of arrays in the following manner: signals corresponding to the same motion are grouped toghether\n",
    "\n",
    "[motion1_channel1_iter1, motion1_channel2_iter1, motion1_channel1_iter2, motion1_channel2_iter2,..., motion2_channel1_iter1, motion2_channel2_iter1,...,motion5_channel2_iter5]"
   ]
  },
  {
   "cell_type": "code",
   "execution_count": 3,
   "metadata": {
    "collapsed": false
   },
   "outputs": [],
   "source": [
    "for m in range(1,nGestures+1):\n",
    "    for i in range(nIterations):\n",
    "        for c in range(1,nChannels+1):\n",
    "            emg.append(emg_data['motion'+str(m)+'_ch'+str(c)][:,i])"
   ]
  },
  {
   "cell_type": "markdown",
   "metadata": {},
   "source": [
    "##Data segmentation"
   ]
  },
  {
   "cell_type": "markdown",
   "metadata": {},
   "source": [
    "The raw EMG signals could be used to train the classifier, but classifiers often perform better when they are fed with a set of meaningful features that describe some properties of the data. Before computing the features of the EMG data, the signals have to be segmented, that is, they have to be divided into chunks with a predefined length. There are two methods of EMG segmentation: disjoint and overlapped segmentation [1]. The first method is implemented here with the following function, which takes one EMG signal and generates a 2D matrix where the columns are the segments in which the signal is divided and the rows are the samples of each segment."
   ]
  },
  {
   "cell_type": "code",
   "execution_count": 4,
   "metadata": {
    "collapsed": false
   },
   "outputs": [],
   "source": [
    "def segmentation(emg, samples = 150):\n",
    "    N = samples # number of samples per segment\n",
    "    S = int(np.floor(emg.shape[0]/N)) # number of segments\n",
    "    length = 0\n",
    "    segmented_emg = np.zeros((N,S))\n",
    "    for s in range(S):\n",
    "        for n in range(length,N+length):\n",
    "            segmented_emg[n-length,s] = emg[n] # NxS matrix with a EMG signal divided in s segments, each one with n samples\n",
    "        length = length + N\n",
    "    length = 0\n",
    "    return segmented_emg"
   ]
  },
  {
   "cell_type": "markdown",
   "metadata": {},
   "source": [
    "We execute the segmentation function for each EMG signal in the dataset, to generate a list containing all the segmented signals."
   ]
  },
  {
   "cell_type": "code",
   "execution_count": 5,
   "metadata": {
    "collapsed": false
   },
   "outputs": [],
   "source": [
    "for n in range(nSignals):\n",
    "    segmented_emg.append(segmentation(emg[n]))"
   ]
  },
  {
   "cell_type": "markdown",
   "metadata": {},
   "source": [
    "##Feature extraction"
   ]
  },
  {
   "cell_type": "markdown",
   "metadata": {},
   "source": [
    "The features that are going to be computed are some of the time domain features described in [2]. These features are commongly used in EMG feature extraction because they are easy to compute and give meaningful information regarding the amplitude, frequency and duration of the signal."
   ]
  },
  {
   "cell_type": "markdown",
   "metadata": {},
   "source": [
    "**Mean absolute value:** it gives information about muscle contraction levels. It is defined as\n",
    "\n",
    "\\begin{equation}\n",
    "MAV_{k} = \\dfrac{1}{N} \\sum\\limits_{i=1}^{N} \\vert x_{i} \\vert\n",
    "\\end{equation}"
   ]
  },
  {
   "cell_type": "code",
   "execution_count": 6,
   "metadata": {
    "collapsed": true
   },
   "outputs": [],
   "source": [
    "def mav(segment):\n",
    "    mav = np.mean(np.abs(segment))\n",
    "    return mav"
   ]
  },
  {
   "cell_type": "markdown",
   "metadata": {},
   "source": [
    "**Root mean square:** it reflects the mean power of the signal and is related to the constant force and non-fatiguing contraction. It is defined as\n",
    "\n",
    "\\begin{equation}\n",
    "RMS_{k} = \\sqrt{\\dfrac{1}{N} \\sum\\limits_{i=1}^{N} x_{i}^{2}}\n",
    "\\end{equation}"
   ]
  },
  {
   "cell_type": "code",
   "execution_count": 7,
   "metadata": {
    "collapsed": true
   },
   "outputs": [],
   "source": [
    "def rms(segment):\n",
    "    rms = np.sqrt(np.mean(np.power(segment,2)))\n",
    "    return rms"
   ]
  },
  {
   "cell_type": "markdown",
   "metadata": {},
   "source": [
    "**Variance:** it is a measure of the power density of the signal. It is defined as\n",
    "\n",
    "\\begin{equation}\n",
    "VAR_{k} = \\dfrac{1}{N} \\sum\\limits_{i=1}^{N}\\left(x_{i}-\\overline{x}\\right)^{2}\n",
    "\\end{equation}"
   ]
  },
  {
   "cell_type": "code",
   "execution_count": 8,
   "metadata": {
    "collapsed": true
   },
   "outputs": [],
   "source": [
    "def var(segment):\n",
    "    var = np.var(segment)\n",
    "    return var"
   ]
  },
  {
   "cell_type": "markdown",
   "metadata": {},
   "source": [
    "**Simple square integral:** it gives a measure of the energy of the EMG signal. It is defined as\n",
    "\n",
    "\\begin{equation}\n",
    "SSI_{k} = \\sum\\limits_{i=1}^{N}\\left(\\vert x_{i}^{2} \\vert\\right)\n",
    "\\end{equation}"
   ]
  },
  {
   "cell_type": "code",
   "execution_count": 9,
   "metadata": {
    "collapsed": true
   },
   "outputs": [],
   "source": [
    "def ssi(segment):\n",
    "    ssi = np.sum(np.abs(np.power(segment,2)))\n",
    "    return ssi"
   ]
  },
  {
   "cell_type": "markdown",
   "metadata": {},
   "source": [
    "**Zero crossings:** it is the number of times the waveform crosses zero. This feature provides an approximate estimation of frequency domain properties. The threshold avoids counting zero crossings induced by noise. It is calculated as follows\n",
    "\n",
    "Increment one unit the zero crossings count value if\n",
    "\n",
    "\\begin{equation}\n",
    "\\left\\lbrace x_{i} > 0 \\space and \\space x_{i+1} < 0 \\right\\rbrace \\space or \\space \\left\\lbrace x_{i} < 0 \\space and \\space x_{i+1} > 0 \\right\\rbrace \\space and \\space \\vert x_{i} - x_{i+1} \\vert \\geq threshold\n",
    "\\end{equation}\n",
    "\n",
    "Which can be rewritten as:\n",
    "\n",
    "\\begin{equation}\n",
    "ZC_{k} = \\sum\\limits_{i=1}^{N-1} \\left\\lbrace f \\left( x_{i}*x_{i+1}\\right) \\right\\rbrace;\\\\\n",
    "f(x) = 1, \\space if \\space x < 0 \\space and \\space \\vert x_{i} - x_{i+1} \\vert \\geq threshold\\\\\n",
    "f(x) = 0, \\space otherwise\n",
    "\\end{equation}\n",
    "\n",
    "This expression has one problem: given three consecutive data points $x_{i-1} > 0$, $x_{i} = 0$ and $x_{i+1} < 0$, the waveform has crossed zero but the zero crossing count is not incremented. If $x_{i}*x_{i+1} \\leq 0$ is used instead of $x_{i}*x_{i+1} < 0$, the zero crossing is counted twice. The code that computes the zero crossings takes all this into account, and solves it by taking only the nonzero values of the segments, as shown below."
   ]
  },
  {
   "cell_type": "code",
   "execution_count": 10,
   "metadata": {
    "collapsed": true
   },
   "outputs": [],
   "source": [
    "def zc(segment):\n",
    "    nz_segment = []\n",
    "    nz_indices = np.nonzero(segment)[0] #Finds the indices of the segment with nonzero values\n",
    "    for m in nz_indices:\n",
    "        nz_segment.append(segment[m]) #The new segment contains only nonzero values    \n",
    "    N = len(nz_segment)\n",
    "    zc = 0\n",
    "    for n in range(N-1):\n",
    "        if((nz_segment[n]*nz_segment[n+1]<0) and np.abs(nz_segment[n]-nz_segment[n+1]) >= 0.001):\n",
    "            zc = zc + 1\n",
    "    return zc"
   ]
  },
  {
   "cell_type": "markdown",
   "metadata": {},
   "source": [
    "**Waveform length:** it is the cumulative length of the waveform over the segment. This feature is related to the signal amlitude, frequency and time. It is defined as\n",
    "\n",
    "\\begin{equation}\n",
    "WL_{k} = \\sum\\limits_{i=1}^{N-1} \\vert x_{i+1} - x_{i} \\vert\n",
    "\\end{equation}"
   ]
  },
  {
   "cell_type": "code",
   "execution_count": 11,
   "metadata": {
    "collapsed": true
   },
   "outputs": [],
   "source": [
    "def wl(segment):\n",
    "    wl = np.sum(np.abs(np.diff(segment)))\n",
    "    return wl"
   ]
  },
  {
   "cell_type": "markdown",
   "metadata": {},
   "source": [
    "**Slope sign changes:** it is similar to the zero crossings feature. It also provides information about the frequency content of the signal. It is calculated as follows\n",
    "\n",
    "Increment one unit the slope sign change value if\n",
    "\n",
    "\\begin{equation}\n",
    "\\left\\lbrace x_{i} > x_{i-1} \\space and \\space x_{i} > x_{i+1} \\right\\rbrace \\space or \\space \\left\\lbrace x_{i} < x_{i-1} \\space and \\space x_{i} < x_{i+1} \\right\\rbrace \\space and \\space \\vert x_{i}-x_{i+1} \\vert \\geq threshold \\space or \\space \\vert x_{i}-x_{i-1} \\vert \\geq threshold\n",
    "\\end{equation}\n",
    "\n",
    "Which can be rewritten as:\n",
    "\n",
    "\\begin{equation}\n",
    "SSC_{k} = \\sum\\limits_{i=2}^{N-1} \\left[ f \\left[ \\left( x_{i}-x_{i-1} \\right)* \\left( x_{i}-x_{i+1} \\right) \\right] \\right];\\\\\n",
    "f(x) = 1, \\space if \\space x \\geq threshold\\\\\n",
    "f(x) = 0, \\space otherwise\n",
    "\\end{equation}"
   ]
  },
  {
   "cell_type": "code",
   "execution_count": 12,
   "metadata": {
    "collapsed": true
   },
   "outputs": [],
   "source": [
    "def ssc(segment):\n",
    "    N = len(segment)\n",
    "    ssc = 0\n",
    "    for n in range(1,N-1):\n",
    "        if (segment[n]-segment[n-1])*(segment[n]-segment[n+1])>=0.001:\n",
    "            ssc = ssc + 1\n",
    "    return ssc"
   ]
  },
  {
   "cell_type": "markdown",
   "metadata": {},
   "source": [
    "**Willison amplitude:** it is the number of times that the difference of the amplitude between to adjacent data points exceed a predefined threshold. This feature provides information about the muscle contraction level. It is defined as\n",
    "\n",
    "\\begin{equation}\n",
    "WAMP_{k} = \\sum\\limits_{i=1}^{N-1} f(\\vert x_i-x_{i+1} \\vert);\\\\\n",
    "f(x) = 1, \\space if \\space x \\geq threshold\\\\\n",
    "f(x) = 0, \\space otherwise\n",
    "\\end{equation}"
   ]
  },
  {
   "cell_type": "code",
   "execution_count": 13,
   "metadata": {
    "collapsed": true
   },
   "outputs": [],
   "source": [
    "def wamp(segment):\n",
    "    N = len(segment)\n",
    "    wamp = 0\n",
    "    for n in range(N-1):\n",
    "        if np.abs(segment[n]-segment[n+1])>=50:\n",
    "            wamp = wamp + 1\n",
    "    return wamp"
   ]
  },
  {
   "cell_type": "markdown",
   "metadata": {},
   "source": [
    "We define a list containing the above functions, to execute them one after another in a for loop."
   ]
  },
  {
   "cell_type": "code",
   "execution_count": 14,
   "metadata": {
    "collapsed": true
   },
   "outputs": [],
   "source": [
    "feature_list = [mav, rms, var, ssi, zc, wl, ssc, wamp]"
   ]
  },
  {
   "cell_type": "code",
   "execution_count": 15,
   "metadata": {
    "collapsed": true
   },
   "outputs": [],
   "source": [
    "def features(segment,feature_list):\n",
    "    features = np.zeros((1,len(segment)*len(feature_list)))\n",
    "    i = 0\n",
    "    for feature in feature_list:\n",
    "        features[0,i] = feature(segment[0])\n",
    "        features[0,i+1] = feature(segment[1])\n",
    "        i = i + len(segment)\n",
    "    return features"
   ]
  },
  {
   "cell_type": "code",
   "execution_count": 16,
   "metadata": {
    "collapsed": false
   },
   "outputs": [],
   "source": [
    "nFeatures = len(feature_list)\n",
    "nSegments = len(segmented_emg[0][0])\n",
    "\n",
    "feature_matrix = np.zeros((nGestures*nIterations*nSegments,nFeatures*nChannels))\n",
    "n = 0\n",
    "\n",
    "for i in range(0,nSignals,nChannels):\n",
    "    for j in range(nSegments):\n",
    "        feature_matrix[n] = features((segmented_emg[i][:,j],segmented_emg[i+1][:,j]),feature_list)\n",
    "        n = n + 1"
   ]
  },
  {
   "cell_type": "markdown",
   "metadata": {},
   "source": [
    "Besides generating the feature matrix that is going to be used to train the classifier, we have to generate the target matrix, that is, the matrix containing the different classes corresponding to the recorded gestures. The target matrix is needed at this point to be able to perform the next step, dimensionality reduction, since the employed method requires the classes of the data to be reduced. In this case where we have five classes, the target matrix is an array in which each class is represented by a number ranging from 0 to 4."
   ]
  },
  {
   "cell_type": "code",
   "execution_count": 17,
   "metadata": {
    "collapsed": true
   },
   "outputs": [],
   "source": [
    "def gestures(nSamples,nGestures):\n",
    "    gestures = []\n",
    "    for m in range(nGestures):\n",
    "        gestures.append((m*np.ones((nSamples))))\n",
    "    gestures = np.array(gestures).ravel()\n",
    "    return gestures"
   ]
  },
  {
   "cell_type": "code",
   "execution_count": 18,
   "metadata": {
    "collapsed": false
   },
   "outputs": [],
   "source": [
    "y = gestures(nSegments*nIterations,nGestures)"
   ]
  },
  {
   "cell_type": "markdown",
   "metadata": {},
   "source": [
    "##Dimensionality reduction and feature scaling"
   ]
  },
  {
   "cell_type": "markdown",
   "metadata": {},
   "source": [
    "The feature matrix that we have generated has 16 dimensions (eight features for each of the two EMG measurement channels). We could use this feature matrix to train our gesture classifier, but we can improve its performance by reducing the number of dimensions while keeping the relevant information. According to [3], there are two ways of performing this step: feature projection and feature selection. The latter method reduces the number of features by selecting the best subset of the original set, according to some criterion. In this case, we are going to implement the first method, which determines the best combination of the original features.\n",
    "\n",
    "Feature projection is generally performed using Principal Component Analysis (PCA) or Linear Discriminant Analysis (LDA). PCA is usually used in unsupervised learning tasks and works by projecting data into a subspace by retaining those characteristics of the dataset that contribute most to its variance. On the other hand, LDA is used in supervised learning tasks and its objective is to find a data projection that maximizes the separation between classes. In this case, we are going to use LDA to reduce the dimensions of the feature matrix from 16 to 2.\n",
    "\n",
    "Besides dimensionality reduction, it is advisable to standarize the range of the feature values. Depending on the employed machine learning algorithm, if the value of any of the features varies greatly, this feature can dominate over the rest and negatively influence the performance of the algorithm. For this reason, the range of all features is normalized so that each one contributes proportionately during training. To this end, the simplest method is rescaling the range of features to a new range of [0,1] or [-1,1] with the min-max algorithm.\n",
    "\n",
    "The following function implements the described steps: dimensionality reduction with LDA and feature scaling in the range [-1,1] with min-max. Besides returning the reduced and scaled feature matrix, it also returns the fitted reduction and scaling models, so that they can be applied to new data."
   ]
  },
  {
   "cell_type": "code",
   "execution_count": 19,
   "metadata": {
    "collapsed": true
   },
   "outputs": [],
   "source": [
    "def feature_scaling(feature_matrix,target,reductor=None,scaler=None):\n",
    "    lda = LDA(n_components=2)    \n",
    "    minmax = MinMaxScaler(feature_range=(-1,1))\n",
    "    if not reductor:\n",
    "        reductor = lda.fit(feature_matrix,target)\n",
    "    feat_lda = reductor.transform(feature_matrix)\n",
    "    if not scaler:\n",
    "        scaler = minmax.fit(feat_lda)\n",
    "    feat_lda_scaled = scaler.transform(feat_lda)\n",
    "    \n",
    "    return feat_lda_scaled,reductor,scaler"
   ]
  },
  {
   "cell_type": "code",
   "execution_count": 20,
   "metadata": {
    "collapsed": false
   },
   "outputs": [],
   "source": [
    "[X,reductor,scaler] = feature_scaling(feature_matrix, y)"
   ]
  },
  {
   "cell_type": "markdown",
   "metadata": {},
   "source": [
    "At this point, since the new feature matrix has two dimensions, it can be visualized in a scatter plot."
   ]
  },
  {
   "cell_type": "code",
   "execution_count": 21,
   "metadata": {
    "collapsed": false
   },
   "outputs": [
    {
     "name": "stderr",
     "output_type": "stream",
     "text": [
      "c:\\python27\\lib\\site-packages\\matplotlib\\collections.py:571: FutureWarning: elementwise comparison failed; returning scalar instead, but in the future will perform elementwise comparison\n",
      "  if self._edgecolors == str('face'):\n"
     ]
    },
    {
     "data": {
      "image/png": "[encoded data removed]",
      "text/plain": [
       "<matplotlib.figure.Figure at 0xb150bd0>"
      ]
     },
     "metadata": {},
     "output_type": "display_data"
    }
   ],
   "source": [
    "plt.scatter(X[0:nSegments*nIterations,0],X[0:nSegments*nIterations,1],c='r',label='Closed')\n",
    "plt.scatter(X[nSegments*nIterations:2*nSegments*nIterations,0],X[nSegments*nIterations:2*nSegments*nIterations,1],c='b',label='Opened')\n",
    "plt.scatter(X[2*nSegments*nIterations:3*nSegments*nIterations,0],X[2*nSegments*nIterations:3*nSegments*nIterations,1],c='g',label='Flexion')\n",
    "plt.scatter(X[3*nSegments*nIterations:4*nSegments*nIterations,0],X[3*nSegments*nIterations:4*nSegments*nIterations,1],c='c',label='Extension')\n",
    "plt.scatter(X[4*nSegments*nIterations:5*nSegments*nIterations,0],X[4*nSegments*nIterations:5*nSegments*nIterations,1],c='m',label='Pronation')\n",
    "plt.legend(scatterpoints=1,loc='center left', bbox_to_anchor=(1, 0.5))\n",
    "plt.show()\n",
    "\n",
    "#plt.scatter(feat_scaled[:,0],feat_scaled[:,1],c=target)\n",
    "#plt.show()"
   ]
  },
  {
   "cell_type": "markdown",
   "metadata": {},
   "source": [
    "Five distinct point clusters, corresponding to the five recorded gestures, can be seen. With these data, the classifier will not have any problem in computing the decision boundaries, and probably the classification accuracy will be near a 100%."
   ]
  },
  {
   "cell_type": "markdown",
   "metadata": {},
   "source": [
    "##Classification"
   ]
  },
  {
   "cell_type": "markdown",
   "metadata": {},
   "source": [
    "Before training the classifier, we are going to randomly divide the feature and target matrices into training and testing sets. This is done to avoid overfitting the model: by using the training set only to fit the model and the testing set to validate its performance, we ensure that the model is able to correctly classify new, completely unknown, data."
   ]
  },
  {
   "cell_type": "code",
   "execution_count": 22,
   "metadata": {
    "collapsed": true
   },
   "outputs": [],
   "source": [
    "X_train, X_test, y_train, y_test = train_test_split(X, y, test_size=0.4, random_state=42)"
   ]
  },
  {
   "cell_type": "markdown",
   "metadata": {},
   "source": [
    "Now, we are ready to build and train our classifier. As said before, we are going to use a multiclass support vector machine (SVM). SVMs "
   ]
  },
  {
   "cell_type": "code",
   "execution_count": 23,
   "metadata": {
    "collapsed": false
   },
   "outputs": [
    {
     "data": {
      "text/plain": [
       "SVC(C=10, cache_size=200, class_weight=None, coef0=0.0,\n",
       "  decision_function_shape=None, degree=3, gamma=10, kernel='rbf',\n",
       "  max_iter=-1, probability=False, random_state=None, shrinking=True,\n",
       "  tol=0.001, verbose=False)"
      ]
     },
     "execution_count": 23,
     "metadata": {},
     "output_type": "execute_result"
    }
   ],
   "source": [
    "classifier = SVC(kernel='rbf',C=10,gamma=10)\n",
    "classifier.fit(X_train, y_train)"
   ]
  },
  {
   "cell_type": "markdown",
   "metadata": {},
   "source": [
    "Test the classifier. We take the last iteration of each recorded gesture. We execute the same steps to have the scaled feature matrix (data loading -> segmentation -> feature calculation -> target matrix generation -> feature scaling)"
   ]
  },
  {
   "cell_type": "code",
   "execution_count": 24,
   "metadata": {
    "collapsed": false
   },
   "outputs": [
    {
     "name": "stdout",
     "output_type": "stream",
     "text": [
      "Classification accuracy = 99.38 percent.\n"
     ]
    }
   ],
   "source": [
    "predict = classifier.predict(X_test)\n",
    "print(\"Classification accuracy = %0.2f percent.\" %(100*classifier.score(X_test,y_test)))"
   ]
  },
  {
   "cell_type": "markdown",
   "metadata": {},
   "source": [
    "As expected, the achieved classification accuracy is very high, near a perfect score."
   ]
  },
  {
   "cell_type": "markdown",
   "metadata": {},
   "source": [
    "##Apendix: optimization of the SVM parameters with cross validation"
   ]
  },
  {
   "cell_type": "markdown",
   "metadata": {},
   "source": [
    "Code taken and adapted from [here](http://scikit-learn.org/stable/auto_examples/svm/plot_rbf_parameters.html)."
   ]
  },
  {
   "cell_type": "markdown",
   "metadata": {},
   "source": [
    "```python\n",
    "from sklearn.cross_validation import StratifiedShuffleSplit\n",
    "from sklearn.grid_search import GridSearchCV\n",
    "\n",
    "C_range = np.logspace(-5,5,11)\n",
    "gamma_range = np.logspace(-30,1,32)\n",
    "param_grid = dict(gamma=gamma_range,C=C_range)\n",
    "cv = StratifiedShuffleSplit(y, n_iter=20,test_size=0.2,random_state=42)\n",
    "grid = GridSearchCV(SVC(),param_grid=param_grid,cv=cv)\n",
    "grid.fit(X,y)\n",
    "print(\"The best parameters are %s with a score of %0.2f\" % (grid.best_params_,grid.best_score_))\n",
    "```"
   ]
  },
  {
   "cell_type": "markdown",
   "metadata": {},
   "source": [
    "##References"
   ]
  },
  {
   "cell_type": "markdown",
   "metadata": {},
   "source": [
    "[1] M.A. Oskoei and H. Hu, Support vector machine-based classification scheme for myoelectric control applied to\n",
    "upper limb. *IEEE Transactions on Biomedical Engineering*, 55(8), pp. 1956–1965, 2008.\n",
    "\n",
    "[2] E.J. Rechy-Ramirez and H. Hu, Stages for developing control systems using EMG and EEG signals: a survey, *Technical report*, School of Computer Science and Electronic Engineering, University of Essex, 2011.\n",
    "\n",
    "[3] K. Englehart, Signal representation for classification of the transient myoelectric signal, *PhD thesis*, University of New Brunswick, 1998."
   ]
  }
 ],
 "metadata": {
  "kernelspec": {
   "display_name": "Python 2",
   "language": "python",
   "name": "python2"
  },
  "language_info": {
   "codemirror_mode": {
    "name": "ipython",
    "version": 2
   },
   "file_extension": ".py",
   "mimetype": "text/x-python",
   "name": "python",
   "nbconvert_exporter": "python",
   "pygments_lexer": "ipython2",
   "version": "2.7.9"
  }
 },
 "nbformat": 4,
 "nbformat_minor": 0
}
