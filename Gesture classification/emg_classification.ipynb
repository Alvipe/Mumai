{
 "cells": [
  {
   "cell_type": "markdown",
   "metadata": {},
   "source": [
    "For this experiment, "
   ]
  },
  {
   "cell_type": "markdown",
   "metadata": {},
   "source": [
    "The required modules are imported: scipy.io is used to load the previously stored EMG data; numpy is used to work with arrays and matrices, as well as to use some mathematical functions; sklearn is used to perform the dimensionality reduction and scaling of the feature matrix (with the linear discriminant analysis and the min-max scaling methods, respectively) and to implement the classifier (a multiclass support vector machine); matplotlib is used to visualize data."
   ]
  },
  {
   "cell_type": "code",
   "execution_count": 1,
   "metadata": {
    "collapsed": true
   },
   "outputs": [],
   "source": [
    "import scipy.io as sio\n",
    "import numpy as np\n",
    "from sklearn.discriminant_analysis import LinearDiscriminantAnalysis as LDA\n",
    "from sklearn.preprocessing import MinMaxScaler\n",
    "from sklearn.svm import SVC\n",
    "import matplotlib.pyplot as plt\n",
    "%matplotlib inline"
   ]
  },
  {
   "cell_type": "markdown",
   "metadata": {},
   "source": [
    "The previously saved EMG data is loaded (in this case, data was recorded with Matlab/Simulink and stored in a .mat file. This is the reason why the scipy.io.loadmat method is used to load the data). The number of recorded gestures (nGestures), the number of EMG channels (nChannels) and the number of times each gesture was repeated (nIterations) are set."
   ]
  },
  {
   "cell_type": "code",
   "execution_count": 2,
   "metadata": {
    "collapsed": false
   },
   "outputs": [],
   "source": [
    "emg_data = sio.loadmat('emg_data_5_class_2ch')\n",
    "nGestures = 5\n",
    "nChannels = 2\n",
    "nIterations = 4\n",
    "emg = []\n",
    "segmented_emg = []"
   ]
  },
  {
   "cell_type": "markdown",
   "metadata": {},
   "source": [
    "The EMG signals are stored as a list of arrays in the following manner: signals corresponding to the same motion are grouped toghether\n",
    "\n",
    "motion1_channel1_iter1, motion1_channel2_iter1, motion1_channel1_iter2, motion1_channel2_iter2,..., motion2_channel1_iter1, motion2_channel2_iter1,...,motionM_channelC_iterI"
   ]
  },
  {
   "cell_type": "code",
   "execution_count": 3,
   "metadata": {
    "collapsed": false
   },
   "outputs": [],
   "source": [
    "for m in range(1,nGestures+1):\n",
    "    for i in range(nIterations):\n",
    "        for c in range(1,nChannels+1):\n",
    "            emg.append(emg_data['motion'+str(m)+'_ch'+str(c)][:,i])"
   ]
  },
  {
   "cell_type": "markdown",
   "metadata": {},
   "source": [
    "The raw EMG signals could be used to train the classifier, but classifiers often perform better when they are fed with a set of meaningful features that describe some properties of the data. Before computing the features of the EMG data, the signals have to be segmented, that is, they have to be divided into chunks with a predefined length. There are two methods of EMG segmentation: disjoint and overlapped segmentation [1]. The first method is implemented here."
   ]
  },
  {
   "cell_type": "code",
   "execution_count": 4,
   "metadata": {
    "collapsed": false
   },
   "outputs": [],
   "source": [
    "def segmentation(emg, samples = 150):\n",
    "    N = samples # number of samples per segment\n",
    "    S = int(np.floor(emg.shape[0]/N)) # number of segments\n",
    "    length = 0\n",
    "    segmented_emg = np.zeros((N,S))\n",
    "    for s in range(S):\n",
    "        for n in range(length,N+length):\n",
    "            segmented_emg[n-length,s] = emg[n] # NxS matrix with a EMG signal divided in s segments, each one with n samples\n",
    "        length = length + N\n",
    "    length = 0\n",
    "    return segmented_emg"
   ]
  },
  {
   "cell_type": "code",
   "execution_count": 5,
   "metadata": {
    "collapsed": false
   },
   "outputs": [],
   "source": [
    "for n in range(len(emg)):\n",
    "    segmented_emg.append(segmentation(emg[n]))"
   ]
  },
  {
   "cell_type": "markdown",
   "metadata": {},
   "source": [
    "The features that are going to be computed are some of the time domain features described in [2]. These features are commongly used in EMG feature extraction because they are easy to compute and give meaningful information regarding the amplitude, frequency and duration of the signal."
   ]
  },
  {
   "cell_type": "markdown",
   "metadata": {},
   "source": [
    "**Mean absolute value:**\n",
    "\n",
    "$$MAV_{k} = \\dfrac{1}{N} \\sum\\limits_{i=1}^{N} \\vert x_{i} \\vert$$"
   ]
  },
  {
   "cell_type": "code",
   "execution_count": 6,
   "metadata": {
    "collapsed": true
   },
   "outputs": [],
   "source": [
    "def mav(segment):\n",
    "    mav = np.mean(np.abs(segment))\n",
    "    return mav"
   ]
  },
  {
   "cell_type": "markdown",
   "metadata": {},
   "source": [
    "**Root mean square:**\n",
    "\n",
    "$$RMS_{k} = \\sqrt{\\dfrac{1}{N} \\sum\\limits_{i=1}^{N} x_{i}^{2}}$$"
   ]
  },
  {
   "cell_type": "code",
   "execution_count": 7,
   "metadata": {
    "collapsed": true
   },
   "outputs": [],
   "source": [
    "def rms(segment):\n",
    "    rms = np.sqrt(np.mean(np.power(segment,2)))\n",
    "    return rms"
   ]
  },
  {
   "cell_type": "markdown",
   "metadata": {},
   "source": [
    "**Variance:**\n",
    "\n",
    "$$VAR_{k} = \\dfrac{1}{N} \\sum\\limits_{i=1}^{N}\\left(x_{i}-\\overline{x}\\right)^{2}$$"
   ]
  },
  {
   "cell_type": "code",
   "execution_count": 8,
   "metadata": {
    "collapsed": true
   },
   "outputs": [],
   "source": [
    "def var(segment):\n",
    "    var = np.var(segment)\n",
    "    return var"
   ]
  },
  {
   "cell_type": "markdown",
   "metadata": {},
   "source": [
    "**Simple square integral:** it gives a measure of the energy of the EMG signal.\n",
    "\n",
    "$$SSI_{k} = \\sum\\limits_{i=1}^{N}\\left(\\vert x_{i}^{2} \\vert\\right)$$"
   ]
  },
  {
   "cell_type": "code",
   "execution_count": 9,
   "metadata": {
    "collapsed": true
   },
   "outputs": [],
   "source": [
    "def ssi(segment):\n",
    "    ssi = np.sum(np.abs(np.power(segment,2)))\n",
    "    return ssi"
   ]
  },
  {
   "cell_type": "markdown",
   "metadata": {},
   "source": [
    "**Zero crossings:** it is the number of times the waveform crosses zero. The threshold avoids counting zero crossings induced by noise.\n",
    "\n",
    "Increment one unit the zero crossings count value if\n",
    "\n",
    "$$\\left\\lbrace x_{i} > 0 \\space and \\space x_{i+1} < 0 \\right\\rbrace \\space or \\space \\left\\lbrace x_{i} < 0 \\space and \\space x_{i+1} > 0 \\right\\rbrace \\space and \\space \\vert x_{i} - x_{i+1} \\vert \\geq threshold$$"
   ]
  },
  {
   "cell_type": "code",
   "execution_count": 10,
   "metadata": {
    "collapsed": true
   },
   "outputs": [],
   "source": [
    "def zc(segment):\n",
    "    N = len(segment)\n",
    "    zc = 0\n",
    "    for n in range(N-1):\n",
    "        if(((segment[n]>0 and segment[n+1]<0) or (segment[n]<0 and segment[n+1]>0)) and np.abs(segment[n]-segment[n+1])>=0.001):\n",
    "            zc = zc + 1\n",
    "    return zc"
   ]
  },
  {
   "cell_type": "code",
   "execution_count": 11,
   "metadata": {
    "collapsed": true
   },
   "outputs": [],
   "source": [
    "#def zc(segment):\n",
    "#    zc = np.sum(np.diff(np.sign(segment))!=0)\n",
    "#    return zc"
   ]
  },
  {
   "cell_type": "markdown",
   "metadata": {},
   "source": [
    "**Waveform length:** it is the cumulative length of the waveform over the segment.\n",
    "\n",
    "$$WL_{k} = \\sum\\limits_{i=1}^{N-1} \\vert x_{i+1} - x_{i} \\vert$$"
   ]
  },
  {
   "cell_type": "code",
   "execution_count": 12,
   "metadata": {
    "collapsed": true
   },
   "outputs": [],
   "source": [
    "def wl(segment):\n",
    "    wl = np.sum(np.abs(np.diff(segment)))\n",
    "    return wl"
   ]
  },
  {
   "cell_type": "markdown",
   "metadata": {},
   "source": [
    "**Slope sign changes**\n",
    "\n",
    "Increment one unit the slope sign change value if\n",
    "\n",
    "$$\\left\\lbrace x_{i} > x_{i-1} \\space and \\space x_{i} > x_{i+1} \\right\\rbrace \\space or \\space \\left\\lbrace x_{i} < x_{i-1} \\space and \\space x_{i} < x_{i+1} \\right\\rbrace \\space and \\space \\vert x_{i}-x_{i+1} \\vert \\geq threshold \\space or \\space \\vert x_{i}-x_{i-1} \\vert \\geq threshold$$\n",
    "\n",
    "Or in a simpler form:\n",
    "\n",
    "$$SSC_{k} = \\sum\\limits_{i=2}^{N-1} \\left[ f \\left[ \\left( x_{i}-x_{i-1} \\right)* \\left( x_{i}-x_{i+1} \\right) \\right] \\right];\\\\\n",
    "f(x) = 1, \\space if \\space x \\geq threshold\\\\\n",
    "f(x) = 0, \\space otherwise$$"
   ]
  },
  {
   "cell_type": "code",
   "execution_count": 13,
   "metadata": {
    "collapsed": true
   },
   "outputs": [],
   "source": [
    "def ssc(segment):\n",
    "    N = len(segment)\n",
    "    ssc = 0\n",
    "    for n in range(1,N-1):\n",
    "        if (segment[n]-segment[n-1])*(segment[n]-segment[n+1])>=0.001:\n",
    "            ssc = ssc + 1\n",
    "    return ssc"
   ]
  },
  {
   "cell_type": "markdown",
   "metadata": {},
   "source": [
    "**Willison amplitude**\n",
    "\n",
    "$$WAMP_{k} = \\sum\\limits_{i=1}^{N-1} f(\\vert x_i-x_{i+1} \\vert);\\\\\n",
    "f(x) = 1, \\space if \\space x \\geq threshold\\\\\n",
    "f(x) = 0, \\space otherwise$$"
   ]
  },
  {
   "cell_type": "code",
   "execution_count": 14,
   "metadata": {
    "collapsed": true
   },
   "outputs": [],
   "source": [
    "def wamp(segment):\n",
    "    N = len(segment)\n",
    "    wamp = 0\n",
    "    for n in range(N-1):\n",
    "        if np.abs(segment[n]-segment[n+1])>=50:\n",
    "            wamp = wamp + 1\n",
    "    return wamp"
   ]
  },
  {
   "cell_type": "markdown",
   "metadata": {},
   "source": [
    "The above functions are stored in a list that is going to be executed inside a for loop.\n",
    "\n",
    "We define a list of the different functions that compute the EMG features, to execute them one after another in a for loop."
   ]
  },
  {
   "cell_type": "code",
   "execution_count": 15,
   "metadata": {
    "collapsed": true
   },
   "outputs": [],
   "source": [
    "feature_list = [mav, rms, var, ssi, zc, wl, ssc, wamp]"
   ]
  },
  {
   "cell_type": "code",
   "execution_count": 16,
   "metadata": {
    "collapsed": true
   },
   "outputs": [],
   "source": [
    "def features(segment,feature_list):\n",
    "    features = np.zeros((1,len(segment)*len(feature_list)))\n",
    "    i = 0\n",
    "    for feature in feature_list:\n",
    "        features[0,i] = feature(segment[0])\n",
    "        features[0,i+1] = feature(segment[1])\n",
    "        i = i + len(segment)\n",
    "    return features"
   ]
  },
  {
   "cell_type": "code",
   "execution_count": 17,
   "metadata": {
    "collapsed": false
   },
   "outputs": [],
   "source": [
    "nSegments = len(segmented_emg[0][0])\n",
    "nFeatures = len(feature_list)\n",
    "\n",
    "feature_matrix = np.zeros((nSegments*nIterations*nGestures,nFeatures*nChannels))\n",
    "n = 0\n",
    "\n",
    "for i in range(0,len(segmented_emg),nChannels):\n",
    "    for j in range(nSegments):\n",
    "        feature_matrix[n] = features((segmented_emg[i][:,j],segmented_emg[i+1][:,j]),feature_list)\n",
    "        n += 1"
   ]
  },
  {
   "cell_type": "code",
   "execution_count": 18,
   "metadata": {
    "collapsed": true
   },
   "outputs": [],
   "source": [
    "def feature_scaling(feature_matrix,target,reductor=None,scaler=None):\n",
    "    lda = LDA(n_components=2)    \n",
    "    minmax = MinMaxScaler(feature_range=(-1,1))\n",
    "    if not reductor:\n",
    "        reductor = lda.fit(feature_matrix,target)\n",
    "    feat_lda = reductor.transform(feature_matrix)\n",
    "    if not scaler:\n",
    "        scaler = minmax.fit(feat_lda)\n",
    "    feat_lda_scaled = scaler.transform(feat_lda)\n",
    "    \n",
    "    return feat_lda_scaled,reductor,scaler"
   ]
  },
  {
   "cell_type": "code",
   "execution_count": 19,
   "metadata": {
    "collapsed": true
   },
   "outputs": [],
   "source": [
    "def gestures(nSamples,nGestures):\n",
    "    gestures = []\n",
    "    for m in range(nGestures):\n",
    "        gestures.append((m*np.ones((nSamples))))\n",
    "    gestures = np.array(gestures).ravel()\n",
    "    return gestures"
   ]
  },
  {
   "cell_type": "code",
   "execution_count": 20,
   "metadata": {
    "collapsed": false
   },
   "outputs": [],
   "source": [
    "y = gestures(nIterations*nSegments,nGestures)\n",
    "[X,reductor,scaler] = feature_scaling(feature_matrix, y)"
   ]
  },
  {
   "cell_type": "markdown",
   "metadata": {},
   "source": [
    "At this point, the feature matrix can be visualized in a scatter plot."
   ]
  },
  {
   "cell_type": "code",
   "execution_count": 21,
   "metadata": {
    "collapsed": false
   },
   "outputs": [
    {
     "data": {
      "image/png": "[encoded data removed]",
      "text/plain": [
       "<matplotlib.figure.Figure at 0xc4dcdb0>"
      ]
     },
     "metadata": {},
     "output_type": "display_data"
    }
   ],
   "source": [
    "plt.scatter(X[0:nSegments*nIterations,0],X[0:nSegments*nIterations,1],c='r',label='Closed')\n",
    "plt.scatter(X[nSegments*nIterations:2*nSegments*nIterations,0],X[nSegments*nIterations:2*nSegments*nIterations,1],c='b',label='Opened')\n",
    "plt.scatter(X[2*nSegments*nIterations:3*nSegments*nIterations,0],X[2*nSegments*nIterations:3*nSegments*nIterations,1],c='g',label='Flexion')\n",
    "plt.scatter(X[3*nSegments*nIterations:4*nSegments*nIterations,0],X[3*nSegments*nIterations:4*nSegments*nIterations,1],c='c',label='Extension')\n",
    "plt.scatter(X[4*nSegments*nIterations:5*nSegments*nIterations,0],X[4*nSegments*nIterations:5*nSegments*nIterations,1],c='m',label='Pronation')\n",
    "plt.legend(scatterpoints=1,loc='center left', bbox_to_anchor=(1, 0.5))\n",
    "plt.show()\n",
    "\n",
    "#plt.scatter(feat_scaled[:,0],feat_scaled[:,1],c=target)\n",
    "#plt.show()"
   ]
  },
  {
   "cell_type": "markdown",
   "metadata": {},
   "source": [
    "Five distinct point clusters, corresponding to the five recorded gestures, can be seen. With these data, the classifier will not have any problem in computing the decision boundaries, and probably the classification accuracy will be near a 100%."
   ]
  },
  {
   "cell_type": "code",
   "execution_count": 22,
   "metadata": {
    "collapsed": false
   },
   "outputs": [
    {
     "data": {
      "text/plain": [
       "SVC(C=100, cache_size=200, class_weight=None, coef0=0.0,\n",
       "  decision_function_shape=None, degree=3, gamma=1, kernel='rbf',\n",
       "  max_iter=-1, probability=False, random_state=None, shrinking=True,\n",
       "  tol=0.001, verbose=False)"
      ]
     },
     "execution_count": 22,
     "metadata": {},
     "output_type": "execute_result"
    }
   ],
   "source": [
    "classifier = SVC(kernel='rbf',C=100,gamma=1)\n",
    "classifier.fit(X, y)"
   ]
  },
  {
   "cell_type": "markdown",
   "metadata": {},
   "source": [
    "Test the classifier. We take the last iteration of each recorded gesture. We execute the same steps to have the scaled feature matrix (segmentation -> feature calculation -> target matrix generation -> feature scaling)"
   ]
  },
  {
   "cell_type": "code",
   "execution_count": 23,
   "metadata": {
    "collapsed": false
   },
   "outputs": [],
   "source": [
    "emg_test = []\n",
    "segmented_emg_test = []\n",
    "\n",
    "for m in range(1,nGestures+1):\n",
    "    for c in range(1,nChannels+1):\n",
    "        emg_test.append(emg_data['motion'+str(m)+'_ch'+str(c)][:,4]) #motion1_ch1_i1, motion1_ch2_i1, motion1_ch1_i2, motion1_ch2_i2\n",
    "\n",
    "for n in range(len(emg_test)):\n",
    "    segmented_emg_test.append(segmentation(emg_test[n]))\n",
    "\n",
    "nIterations = 1 #To test the classifier, the last iteration of each gesture is used\n",
    "nSegments = len(segmented_emg_test[0][0])\n",
    "\n",
    "feature_matrix_test = np.zeros((nSegments*nIterations*nGestures,nFeatures*nChannels))\n",
    "n = 0\n",
    "\n",
    "for i in range(0,len(segmented_emg_test),nChannels):\n",
    "    for j in range(len(segmented_emg_test[0][0])):\n",
    "        feature_matrix_test[n] = features((segmented_emg_test[i][:,j],segmented_emg_test[i+1][:,j]),feature_list)\n",
    "        n = n + 1\n",
    "\n",
    "y_test = gestures(nSegments,nGestures)\n",
    "\n",
    "[X_test,reductor,scaler] = feature_scaling(feature_matrix_test,y_test,reductor,scaler)"
   ]
  },
  {
   "cell_type": "code",
   "execution_count": 24,
   "metadata": {
    "collapsed": false
   },
   "outputs": [
    {
     "name": "stdout",
     "output_type": "stream",
     "text": [
      "Classification accuracy = 98.75 percent.\n"
     ]
    }
   ],
   "source": [
    "predict = classifier.predict(X)\n",
    "print(\"Classification accuracy = %0.2f percent.\" %(100*classifier.score(X_test,y_test)))"
   ]
  },
  {
   "cell_type": "markdown",
   "metadata": {},
   "source": [
    "As expected, the achieved classification accuracy is very high, near a perfect score."
   ]
  },
  {
   "cell_type": "markdown",
   "metadata": {},
   "source": [
    "[1] M.A. Oskoei and H. Hu. Support vector machine-based classification scheme for myoelectric control applied to\n",
    "upper limb. *IEEE Transactions on Biomedical Engineering*, 55(8):1956–1965, 2008."
   ]
  }
 ],
 "metadata": {
  "kernelspec": {
   "display_name": "Python 2",
   "language": "python",
   "name": "python2"
  },
  "language_info": {
   "codemirror_mode": {
    "name": "ipython",
    "version": 2
   },
   "file_extension": ".py",
   "mimetype": "text/x-python",
   "name": "python",
   "nbconvert_exporter": "python",
   "pygments_lexer": "ipython2",
   "version": "2.7.9"
  }
 },
 "nbformat": 4,
 "nbformat_minor": 0
}
